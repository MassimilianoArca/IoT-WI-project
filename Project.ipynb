{
 "cells": [
  {
   "cell_type": "code",
   "execution_count": 568,
   "metadata": {},
   "outputs": [],
   "source": [
    "import pandas as pd\n",
    "import numpy as np\n",
    "import random\n",
    "from sklearn.model_selection import train_test_split\n",
    "from sklearn.neighbors import KNeighborsClassifier\n",
    "from sklearn.metrics import confusion_matrix, ConfusionMatrixDisplay\n",
    "from sklearn.metrics import classification_report, f1_score\n",
    "from sklearn.metrics import precision_score, recall_score\n",
    "import matplotlib\n",
    "import matplotlib.pyplot as plt"
   ]
  },
  {
   "cell_type": "code",
   "execution_count": 543,
   "metadata": {},
   "outputs": [
    {
     "data": {
      "text/html": [
       "<div>\n",
       "<style scoped>\n",
       "    .dataframe tbody tr th:only-of-type {\n",
       "        vertical-align: middle;\n",
       "    }\n",
       "\n",
       "    .dataframe tbody tr th {\n",
       "        vertical-align: top;\n",
       "    }\n",
       "\n",
       "    .dataframe thead th {\n",
       "        text-align: right;\n",
       "    }\n",
       "</style>\n",
       "<table border=\"1\" class=\"dataframe\">\n",
       "  <thead>\n",
       "    <tr style=\"text-align: right;\">\n",
       "      <th></th>\n",
       "      <th>No.</th>\n",
       "      <th>Time</th>\n",
       "      <th>Time since previous frame</th>\n",
       "      <th>Source</th>\n",
       "      <th>Destination</th>\n",
       "      <th>Time to Live</th>\n",
       "      <th>Data Length</th>\n",
       "      <th>Frame Length</th>\n",
       "      <th>Protocol</th>\n",
       "    </tr>\n",
       "  </thead>\n",
       "  <tbody>\n",
       "    <tr>\n",
       "      <th>0</th>\n",
       "      <td>1</td>\n",
       "      <td>0.000000</td>\n",
       "      <td>0.000000</td>\n",
       "      <td>192.168.1.226</td>\n",
       "      <td>188.153.150.68</td>\n",
       "      <td>64</td>\n",
       "      <td>130.0</td>\n",
       "      <td>172</td>\n",
       "      <td>UDP</td>\n",
       "    </tr>\n",
       "    <tr>\n",
       "      <th>1</th>\n",
       "      <td>2</td>\n",
       "      <td>0.008723</td>\n",
       "      <td>0.008723</td>\n",
       "      <td>188.153.150.68</td>\n",
       "      <td>192.168.1.226</td>\n",
       "      <td>52</td>\n",
       "      <td>843.0</td>\n",
       "      <td>885</td>\n",
       "      <td>UDP</td>\n",
       "    </tr>\n",
       "    <tr>\n",
       "      <th>2</th>\n",
       "      <td>3</td>\n",
       "      <td>0.008725</td>\n",
       "      <td>0.000002</td>\n",
       "      <td>188.153.150.68</td>\n",
       "      <td>192.168.1.226</td>\n",
       "      <td>52</td>\n",
       "      <td>835.0</td>\n",
       "      <td>877</td>\n",
       "      <td>UDP</td>\n",
       "    </tr>\n",
       "    <tr>\n",
       "      <th>3</th>\n",
       "      <td>4</td>\n",
       "      <td>0.008726</td>\n",
       "      <td>0.000001</td>\n",
       "      <td>188.153.150.68</td>\n",
       "      <td>192.168.1.226</td>\n",
       "      <td>52</td>\n",
       "      <td>903.0</td>\n",
       "      <td>945</td>\n",
       "      <td>UDP</td>\n",
       "    </tr>\n",
       "    <tr>\n",
       "      <th>4</th>\n",
       "      <td>5</td>\n",
       "      <td>0.008726</td>\n",
       "      <td>0.000000</td>\n",
       "      <td>188.153.150.68</td>\n",
       "      <td>192.168.1.226</td>\n",
       "      <td>52</td>\n",
       "      <td>903.0</td>\n",
       "      <td>945</td>\n",
       "      <td>UDP</td>\n",
       "    </tr>\n",
       "  </tbody>\n",
       "</table>\n",
       "</div>"
      ],
      "text/plain": [
       "   No.      Time  Time since previous frame          Source     Destination  \\\n",
       "0    1  0.000000                   0.000000   192.168.1.226  188.153.150.68   \n",
       "1    2  0.008723                   0.008723  188.153.150.68   192.168.1.226   \n",
       "2    3  0.008725                   0.000002  188.153.150.68   192.168.1.226   \n",
       "3    4  0.008726                   0.000001  188.153.150.68   192.168.1.226   \n",
       "4    5  0.008726                   0.000000  188.153.150.68   192.168.1.226   \n",
       "\n",
       "   Time to Live  Data Length  Frame Length Protocol  \n",
       "0            64        130.0           172      UDP  \n",
       "1            52        843.0           885      UDP  \n",
       "2            52        835.0           877      UDP  \n",
       "3            52        903.0           945      UDP  \n",
       "4            52        903.0           945      UDP  "
      ]
     },
     "execution_count": 543,
     "metadata": {},
     "output_type": "execute_result"
    }
   ],
   "source": [
    "df = pd.read_csv(\"Dataset.csv\")\n",
    "df = pd.DataFrame(df)\n",
    "\n",
    "df.head()"
   ]
  },
  {
   "cell_type": "code",
   "execution_count": 544,
   "metadata": {},
   "outputs": [],
   "source": [
    "df['Time'] = pd.to_datetime(df['Time'], unit='s')\n",
    "\n",
    "df = df.drop(columns=['No.'])"
   ]
  },
  {
   "cell_type": "markdown",
   "metadata": {},
   "source": [
    "In order to create a useful dataset to fit the models, we have to create samples by windowing the raw dataset with window of T seconds.\n",
    "While aggregating every T seconds, we compute some useful features."
   ]
  },
  {
   "cell_type": "code",
   "execution_count": 545,
   "metadata": {},
   "outputs": [],
   "source": [
    "dst_address = \"188.153.150.68\"\n",
    "time_window = \"0.5S\""
   ]
  },
  {
   "cell_type": "code",
   "execution_count": 546,
   "metadata": {},
   "outputs": [],
   "source": [
    "df_complete = df.resample(time_window, on='Time').agg(\n",
    "    {'Time to Live' : np.mean, 'Time since previous frame' : np.mean,\n",
    "     'Data Length' : np.mean, 'Frame Length' : np.mean})"
   ]
  },
  {
   "cell_type": "code",
   "execution_count": 547,
   "metadata": {},
   "outputs": [
    {
     "data": {
      "text/html": [
       "<div>\n",
       "<style scoped>\n",
       "    .dataframe tbody tr th:only-of-type {\n",
       "        vertical-align: middle;\n",
       "    }\n",
       "\n",
       "    .dataframe tbody tr th {\n",
       "        vertical-align: top;\n",
       "    }\n",
       "\n",
       "    .dataframe thead th {\n",
       "        text-align: right;\n",
       "    }\n",
       "</style>\n",
       "<table border=\"1\" class=\"dataframe\">\n",
       "  <thead>\n",
       "    <tr style=\"text-align: right;\">\n",
       "      <th></th>\n",
       "      <th>Time to Live</th>\n",
       "      <th>Time since previous frame</th>\n",
       "      <th>Data Length</th>\n",
       "      <th>Frame Length</th>\n",
       "    </tr>\n",
       "    <tr>\n",
       "      <th>Time</th>\n",
       "      <th></th>\n",
       "      <th></th>\n",
       "      <th></th>\n",
       "      <th></th>\n",
       "    </tr>\n",
       "  </thead>\n",
       "  <tbody>\n",
       "    <tr>\n",
       "      <th>1970-01-01 00:00:00.000</th>\n",
       "      <td>58.582677</td>\n",
       "      <td>0.001290</td>\n",
       "      <td>847.868074</td>\n",
       "      <td>886.204724</td>\n",
       "    </tr>\n",
       "    <tr>\n",
       "      <th>1970-01-01 00:00:00.500</th>\n",
       "      <td>58.155620</td>\n",
       "      <td>0.003430</td>\n",
       "      <td>862.419825</td>\n",
       "      <td>895.538905</td>\n",
       "    </tr>\n",
       "    <tr>\n",
       "      <th>1970-01-01 00:00:01.000</th>\n",
       "      <td>57.883871</td>\n",
       "      <td>0.001629</td>\n",
       "      <td>837.916129</td>\n",
       "      <td>879.916129</td>\n",
       "    </tr>\n",
       "    <tr>\n",
       "      <th>1970-01-01 00:00:01.500</th>\n",
       "      <td>58.707865</td>\n",
       "      <td>0.004533</td>\n",
       "      <td>811.333333</td>\n",
       "      <td>837.168539</td>\n",
       "    </tr>\n",
       "    <tr>\n",
       "      <th>1970-01-01 00:00:02.000</th>\n",
       "      <td>58.382271</td>\n",
       "      <td>0.003003</td>\n",
       "      <td>818.714286</td>\n",
       "      <td>855.875346</td>\n",
       "    </tr>\n",
       "  </tbody>\n",
       "</table>\n",
       "</div>"
      ],
      "text/plain": [
       "                         Time to Live  Time since previous frame  Data Length  \\\n",
       "Time                                                                            \n",
       "1970-01-01 00:00:00.000     58.582677                   0.001290   847.868074   \n",
       "1970-01-01 00:00:00.500     58.155620                   0.003430   862.419825   \n",
       "1970-01-01 00:00:01.000     57.883871                   0.001629   837.916129   \n",
       "1970-01-01 00:00:01.500     58.707865                   0.004533   811.333333   \n",
       "1970-01-01 00:00:02.000     58.382271                   0.003003   818.714286   \n",
       "\n",
       "                         Frame Length  \n",
       "Time                                   \n",
       "1970-01-01 00:00:00.000    886.204724  \n",
       "1970-01-01 00:00:00.500    895.538905  \n",
       "1970-01-01 00:00:01.000    879.916129  \n",
       "1970-01-01 00:00:01.500    837.168539  \n",
       "1970-01-01 00:00:02.000    855.875346  "
      ]
     },
     "execution_count": 547,
     "metadata": {},
     "output_type": "execute_result"
    }
   ],
   "source": [
    "df_complete.head()"
   ]
  },
  {
   "cell_type": "markdown",
   "metadata": {},
   "source": [
    "Since we want to compute the rate of inbound and outbound packets, we retrieve two sub-datasets to compute them.\n",
    "Once computed, the columns are added to the original dataset."
   ]
  },
  {
   "cell_type": "code",
   "execution_count": 548,
   "metadata": {},
   "outputs": [],
   "source": [
    "df_inbound = df.loc[df['Source'] == dst_address]\n",
    "df_outbound = df.loc[df['Destination'] == dst_address]\n",
    "\n",
    "df_inbound = df_inbound.drop(columns=['Destination'])\n",
    "df_outbound = df_outbound.drop(columns=['Source'])"
   ]
  },
  {
   "cell_type": "code",
   "execution_count": 549,
   "metadata": {},
   "outputs": [],
   "source": [
    "df_inbound = df_inbound.resample(time_window, on='Time').agg(\n",
    "    {'Source' : 'count', 'Time to Live' : np.mean,'Time since previous frame' : np.mean,\n",
    "     'Data Length' : np.mean, 'Frame Length' : np.mean})\n",
    "\n",
    "df_inbound = df_inbound.rename(columns={'Source' : 'Inbound Count'})\n",
    "\n",
    "\n",
    "df_outbound = df_outbound.resample(time_window, on='Time').agg(\n",
    "    {'Destination' : 'count', 'Time to Live' : np.mean,'Time since previous frame' : np.mean,\n",
    "     'Data Length' : np.mean, 'Frame Length' : np.mean})\n",
    "\n",
    "df_outbound = df_outbound.rename(columns={'Destination' : 'Outbound Count'})"
   ]
  },
  {
   "cell_type": "code",
   "execution_count": 550,
   "metadata": {},
   "outputs": [],
   "source": [
    "inbound_count = df_inbound[\"Inbound Count\"]\n",
    "outbound_count = df_outbound[\"Outbound Count\"]\n",
    "\n",
    "df_complete = df_complete.join(inbound_count)\n",
    "df_complete = df_complete.join(outbound_count)\n",
    "\n",
    "df_complete.reset_index(inplace=True)\n",
    "\n",
    "df_complete['Time'] = df_complete['Time'].dt.time"
   ]
  },
  {
   "cell_type": "code",
   "execution_count": 551,
   "metadata": {},
   "outputs": [
    {
     "data": {
      "text/html": [
       "<div>\n",
       "<style scoped>\n",
       "    .dataframe tbody tr th:only-of-type {\n",
       "        vertical-align: middle;\n",
       "    }\n",
       "\n",
       "    .dataframe tbody tr th {\n",
       "        vertical-align: top;\n",
       "    }\n",
       "\n",
       "    .dataframe thead th {\n",
       "        text-align: right;\n",
       "    }\n",
       "</style>\n",
       "<table border=\"1\" class=\"dataframe\">\n",
       "  <thead>\n",
       "    <tr style=\"text-align: right;\">\n",
       "      <th></th>\n",
       "      <th>Time</th>\n",
       "      <th>Time to Live</th>\n",
       "      <th>Time since previous frame</th>\n",
       "      <th>Data Length</th>\n",
       "      <th>Frame Length</th>\n",
       "      <th>Inbound Count</th>\n",
       "      <th>Outbound Count</th>\n",
       "    </tr>\n",
       "  </thead>\n",
       "  <tbody>\n",
       "    <tr>\n",
       "      <th>0</th>\n",
       "      <td>00:00:00</td>\n",
       "      <td>58.582677</td>\n",
       "      <td>0.001290</td>\n",
       "      <td>847.868074</td>\n",
       "      <td>886.204724</td>\n",
       "      <td>172</td>\n",
       "      <td>209</td>\n",
       "    </tr>\n",
       "    <tr>\n",
       "      <th>1</th>\n",
       "      <td>00:00:00.500000</td>\n",
       "      <td>58.155620</td>\n",
       "      <td>0.003430</td>\n",
       "      <td>862.419825</td>\n",
       "      <td>895.538905</td>\n",
       "      <td>169</td>\n",
       "      <td>178</td>\n",
       "    </tr>\n",
       "    <tr>\n",
       "      <th>2</th>\n",
       "      <td>00:00:01</td>\n",
       "      <td>57.883871</td>\n",
       "      <td>0.001629</td>\n",
       "      <td>837.916129</td>\n",
       "      <td>879.916129</td>\n",
       "      <td>158</td>\n",
       "      <td>152</td>\n",
       "    </tr>\n",
       "    <tr>\n",
       "      <th>3</th>\n",
       "      <td>00:00:01.500000</td>\n",
       "      <td>58.707865</td>\n",
       "      <td>0.004533</td>\n",
       "      <td>811.333333</td>\n",
       "      <td>837.168539</td>\n",
       "      <td>157</td>\n",
       "      <td>199</td>\n",
       "    </tr>\n",
       "    <tr>\n",
       "      <th>4</th>\n",
       "      <td>00:00:02</td>\n",
       "      <td>58.382271</td>\n",
       "      <td>0.003003</td>\n",
       "      <td>818.714286</td>\n",
       "      <td>855.875346</td>\n",
       "      <td>169</td>\n",
       "      <td>192</td>\n",
       "    </tr>\n",
       "  </tbody>\n",
       "</table>\n",
       "</div>"
      ],
      "text/plain": [
       "              Time  Time to Live  Time since previous frame  Data Length  \\\n",
       "0         00:00:00     58.582677                   0.001290   847.868074   \n",
       "1  00:00:00.500000     58.155620                   0.003430   862.419825   \n",
       "2         00:00:01     57.883871                   0.001629   837.916129   \n",
       "3  00:00:01.500000     58.707865                   0.004533   811.333333   \n",
       "4         00:00:02     58.382271                   0.003003   818.714286   \n",
       "\n",
       "   Frame Length  Inbound Count  Outbound Count  \n",
       "0    886.204724            172             209  \n",
       "1    895.538905            169             178  \n",
       "2    879.916129            158             152  \n",
       "3    837.168539            157             199  \n",
       "4    855.875346            169             192  "
      ]
     },
     "execution_count": 551,
     "metadata": {},
     "output_type": "execute_result"
    }
   ],
   "source": [
    "df_complete.head()"
   ]
  },
  {
   "cell_type": "code",
   "execution_count": 552,
   "metadata": {},
   "outputs": [
    {
     "data": {
      "text/html": [
       "<div>\n",
       "<style scoped>\n",
       "    .dataframe tbody tr th:only-of-type {\n",
       "        vertical-align: middle;\n",
       "    }\n",
       "\n",
       "    .dataframe tbody tr th {\n",
       "        vertical-align: top;\n",
       "    }\n",
       "\n",
       "    .dataframe thead th {\n",
       "        text-align: right;\n",
       "    }\n",
       "</style>\n",
       "<table border=\"1\" class=\"dataframe\">\n",
       "  <thead>\n",
       "    <tr style=\"text-align: right;\">\n",
       "      <th></th>\n",
       "      <th>label</th>\n",
       "    </tr>\n",
       "  </thead>\n",
       "  <tbody>\n",
       "    <tr>\n",
       "      <th>0</th>\n",
       "      <td>1</td>\n",
       "    </tr>\n",
       "    <tr>\n",
       "      <th>1</th>\n",
       "      <td>1</td>\n",
       "    </tr>\n",
       "    <tr>\n",
       "      <th>2</th>\n",
       "      <td>1</td>\n",
       "    </tr>\n",
       "    <tr>\n",
       "      <th>3</th>\n",
       "      <td>1</td>\n",
       "    </tr>\n",
       "    <tr>\n",
       "      <th>4</th>\n",
       "      <td>1</td>\n",
       "    </tr>\n",
       "  </tbody>\n",
       "</table>\n",
       "</div>"
      ],
      "text/plain": [
       "   label\n",
       "0      1\n",
       "1      1\n",
       "2      1\n",
       "3      1\n",
       "4      1"
      ]
     },
     "execution_count": 552,
     "metadata": {},
     "output_type": "execute_result"
    }
   ],
   "source": [
    "labels = pd.read_csv(\"Labels.csv\")\n",
    "labels = pd.DataFrame(labels)\n",
    "\n",
    "labels.head()"
   ]
  },
  {
   "cell_type": "code",
   "execution_count": 553,
   "metadata": {},
   "outputs": [],
   "source": [
    "df_complete = df_complete.join(labels)"
   ]
  },
  {
   "cell_type": "code",
   "execution_count": 554,
   "metadata": {},
   "outputs": [
    {
     "data": {
      "text/html": [
       "<div>\n",
       "<style scoped>\n",
       "    .dataframe tbody tr th:only-of-type {\n",
       "        vertical-align: middle;\n",
       "    }\n",
       "\n",
       "    .dataframe tbody tr th {\n",
       "        vertical-align: top;\n",
       "    }\n",
       "\n",
       "    .dataframe thead th {\n",
       "        text-align: right;\n",
       "    }\n",
       "</style>\n",
       "<table border=\"1\" class=\"dataframe\">\n",
       "  <thead>\n",
       "    <tr style=\"text-align: right;\">\n",
       "      <th></th>\n",
       "      <th>Time to Live</th>\n",
       "      <th>Time since previous frame</th>\n",
       "      <th>Data Length</th>\n",
       "      <th>Frame Length</th>\n",
       "      <th>Inbound Count</th>\n",
       "      <th>Outbound Count</th>\n",
       "      <th>label</th>\n",
       "    </tr>\n",
       "  </thead>\n",
       "  <tbody>\n",
       "    <tr>\n",
       "      <th>0</th>\n",
       "      <td>58.582677</td>\n",
       "      <td>0.001290</td>\n",
       "      <td>847.868074</td>\n",
       "      <td>886.204724</td>\n",
       "      <td>172</td>\n",
       "      <td>209</td>\n",
       "      <td>1</td>\n",
       "    </tr>\n",
       "    <tr>\n",
       "      <th>1</th>\n",
       "      <td>58.155620</td>\n",
       "      <td>0.003430</td>\n",
       "      <td>862.419825</td>\n",
       "      <td>895.538905</td>\n",
       "      <td>169</td>\n",
       "      <td>178</td>\n",
       "      <td>1</td>\n",
       "    </tr>\n",
       "    <tr>\n",
       "      <th>2</th>\n",
       "      <td>57.883871</td>\n",
       "      <td>0.001629</td>\n",
       "      <td>837.916129</td>\n",
       "      <td>879.916129</td>\n",
       "      <td>158</td>\n",
       "      <td>152</td>\n",
       "      <td>1</td>\n",
       "    </tr>\n",
       "    <tr>\n",
       "      <th>3</th>\n",
       "      <td>58.707865</td>\n",
       "      <td>0.004533</td>\n",
       "      <td>811.333333</td>\n",
       "      <td>837.168539</td>\n",
       "      <td>157</td>\n",
       "      <td>199</td>\n",
       "      <td>1</td>\n",
       "    </tr>\n",
       "    <tr>\n",
       "      <th>4</th>\n",
       "      <td>58.382271</td>\n",
       "      <td>0.003003</td>\n",
       "      <td>818.714286</td>\n",
       "      <td>855.875346</td>\n",
       "      <td>169</td>\n",
       "      <td>192</td>\n",
       "      <td>1</td>\n",
       "    </tr>\n",
       "    <tr>\n",
       "      <th>...</th>\n",
       "      <td>...</td>\n",
       "      <td>...</td>\n",
       "      <td>...</td>\n",
       "      <td>...</td>\n",
       "      <td>...</td>\n",
       "      <td>...</td>\n",
       "      <td>...</td>\n",
       "    </tr>\n",
       "    <tr>\n",
       "      <th>237</th>\n",
       "      <td>57.839572</td>\n",
       "      <td>0.004375</td>\n",
       "      <td>854.404959</td>\n",
       "      <td>874.879679</td>\n",
       "      <td>192</td>\n",
       "      <td>182</td>\n",
       "      <td>0</td>\n",
       "    </tr>\n",
       "    <tr>\n",
       "      <th>238</th>\n",
       "      <td>56.526055</td>\n",
       "      <td>0.001222</td>\n",
       "      <td>897.551122</td>\n",
       "      <td>935.493797</td>\n",
       "      <td>251</td>\n",
       "      <td>152</td>\n",
       "      <td>0</td>\n",
       "    </tr>\n",
       "    <tr>\n",
       "      <th>239</th>\n",
       "      <td>57.666667</td>\n",
       "      <td>0.001409</td>\n",
       "      <td>863.700000</td>\n",
       "      <td>905.700000</td>\n",
       "      <td>190</td>\n",
       "      <td>170</td>\n",
       "      <td>0</td>\n",
       "    </tr>\n",
       "    <tr>\n",
       "      <th>240</th>\n",
       "      <td>59.238095</td>\n",
       "      <td>0.004207</td>\n",
       "      <td>856.935829</td>\n",
       "      <td>890.841270</td>\n",
       "      <td>150</td>\n",
       "      <td>228</td>\n",
       "      <td>0</td>\n",
       "    </tr>\n",
       "    <tr>\n",
       "      <th>241</th>\n",
       "      <td>57.706522</td>\n",
       "      <td>0.001355</td>\n",
       "      <td>860.838798</td>\n",
       "      <td>898.725543</td>\n",
       "      <td>193</td>\n",
       "      <td>175</td>\n",
       "      <td>0</td>\n",
       "    </tr>\n",
       "  </tbody>\n",
       "</table>\n",
       "<p>242 rows × 7 columns</p>\n",
       "</div>"
      ],
      "text/plain": [
       "     Time to Live  Time since previous frame  Data Length  Frame Length  \\\n",
       "0       58.582677                   0.001290   847.868074    886.204724   \n",
       "1       58.155620                   0.003430   862.419825    895.538905   \n",
       "2       57.883871                   0.001629   837.916129    879.916129   \n",
       "3       58.707865                   0.004533   811.333333    837.168539   \n",
       "4       58.382271                   0.003003   818.714286    855.875346   \n",
       "..            ...                        ...          ...           ...   \n",
       "237     57.839572                   0.004375   854.404959    874.879679   \n",
       "238     56.526055                   0.001222   897.551122    935.493797   \n",
       "239     57.666667                   0.001409   863.700000    905.700000   \n",
       "240     59.238095                   0.004207   856.935829    890.841270   \n",
       "241     57.706522                   0.001355   860.838798    898.725543   \n",
       "\n",
       "     Inbound Count  Outbound Count  label  \n",
       "0              172             209      1  \n",
       "1              169             178      1  \n",
       "2              158             152      1  \n",
       "3              157             199      1  \n",
       "4              169             192      1  \n",
       "..             ...             ...    ...  \n",
       "237            192             182      0  \n",
       "238            251             152      0  \n",
       "239            190             170      0  \n",
       "240            150             228      0  \n",
       "241            193             175      0  \n",
       "\n",
       "[242 rows x 7 columns]"
      ]
     },
     "execution_count": 554,
     "metadata": {},
     "output_type": "execute_result"
    }
   ],
   "source": [
    "df_complete = df_complete.dropna()\n",
    "df_complete = df_complete.drop(columns='Time')\n",
    "df_complete['label'] = df_complete['label'].astype(int)\n",
    "\n",
    "df_complete"
   ]
  },
  {
   "cell_type": "code",
   "execution_count": 555,
   "metadata": {},
   "outputs": [],
   "source": [
    "X = df_complete.loc[:, df_complete.columns != 'label']\n",
    "Y = df_complete['label']"
   ]
  },
  {
   "cell_type": "code",
   "execution_count": 556,
   "metadata": {},
   "outputs": [],
   "source": [
    "X_train, X_test, Y_train, Y_test = train_test_split(X, Y, test_size=0.30, random_state=42)"
   ]
  },
  {
   "cell_type": "code",
   "execution_count": 557,
   "metadata": {},
   "outputs": [
    {
     "data": {
      "text/plain": [
       "KNeighborsClassifier(n_neighbors=10)"
      ]
     },
     "execution_count": 557,
     "metadata": {},
     "output_type": "execute_result"
    }
   ],
   "source": [
    "model = KNeighborsClassifier(n_neighbors=10)\n",
    "model.fit(X_train,Y_train)"
   ]
  },
  {
   "cell_type": "code",
   "execution_count": 558,
   "metadata": {},
   "outputs": [],
   "source": [
    "predictions = model.predict(X_test)\n",
    "expected = Y_test\n",
    "indexes = expected.index"
   ]
  },
  {
   "cell_type": "code",
   "execution_count": 560,
   "metadata": {},
   "outputs": [
    {
     "name": "stdout",
     "output_type": "stream",
     "text": [
      "RMS: 0.2617119612951068 \n"
     ]
    }
   ],
   "source": [
    "print(\"RMS: %r \" % np.sqrt(np.mean((predictions - expected) ** 2)))"
   ]
  },
  {
   "cell_type": "code",
   "execution_count": 561,
   "metadata": {},
   "outputs": [
    {
     "data": {
      "text/plain": [
       "0.9315068493150684"
      ]
     },
     "execution_count": 561,
     "metadata": {},
     "output_type": "execute_result"
    }
   ],
   "source": [
    "from sklearn import metrics\n",
    "metrics.accuracy_score(expected, predictions)"
   ]
  },
  {
   "cell_type": "code",
   "execution_count": 565,
   "metadata": {},
   "outputs": [
    {
     "data": {
      "text/html": [
       "<div>\n",
       "<style scoped>\n",
       "    .dataframe tbody tr th:only-of-type {\n",
       "        vertical-align: middle;\n",
       "    }\n",
       "\n",
       "    .dataframe tbody tr th {\n",
       "        vertical-align: top;\n",
       "    }\n",
       "\n",
       "    .dataframe thead th {\n",
       "        text-align: right;\n",
       "    }\n",
       "</style>\n",
       "<table border=\"1\" class=\"dataframe\">\n",
       "  <thead>\n",
       "    <tr style=\"text-align: right;\">\n",
       "      <th></th>\n",
       "      <th>label</th>\n",
       "    </tr>\n",
       "  </thead>\n",
       "  <tbody>\n",
       "    <tr>\n",
       "      <th>24</th>\n",
       "      <td>1</td>\n",
       "    </tr>\n",
       "    <tr>\n",
       "      <th>6</th>\n",
       "      <td>1</td>\n",
       "    </tr>\n",
       "    <tr>\n",
       "      <th>152</th>\n",
       "      <td>0</td>\n",
       "    </tr>\n",
       "    <tr>\n",
       "      <th>209</th>\n",
       "      <td>0</td>\n",
       "    </tr>\n",
       "    <tr>\n",
       "      <th>237</th>\n",
       "      <td>0</td>\n",
       "    </tr>\n",
       "    <tr>\n",
       "      <th>...</th>\n",
       "      <td>...</td>\n",
       "    </tr>\n",
       "    <tr>\n",
       "      <th>193</th>\n",
       "      <td>0</td>\n",
       "    </tr>\n",
       "    <tr>\n",
       "      <th>104</th>\n",
       "      <td>1</td>\n",
       "    </tr>\n",
       "    <tr>\n",
       "      <th>109</th>\n",
       "      <td>1</td>\n",
       "    </tr>\n",
       "    <tr>\n",
       "      <th>198</th>\n",
       "      <td>0</td>\n",
       "    </tr>\n",
       "    <tr>\n",
       "      <th>79</th>\n",
       "      <td>1</td>\n",
       "    </tr>\n",
       "  </tbody>\n",
       "</table>\n",
       "<p>73 rows × 1 columns</p>\n",
       "</div>"
      ],
      "text/plain": [
       "     label\n",
       "24       1\n",
       "6        1\n",
       "152      0\n",
       "209      0\n",
       "237      0\n",
       "..     ...\n",
       "193      0\n",
       "104      1\n",
       "109      1\n",
       "198      0\n",
       "79       1\n",
       "\n",
       "[73 rows x 1 columns]"
      ]
     },
     "execution_count": 565,
     "metadata": {},
     "output_type": "execute_result"
    }
   ],
   "source": [
    "expected = pd.DataFrame(expected)\n",
    "expected"
   ]
  },
  {
   "cell_type": "code",
   "execution_count": 562,
   "metadata": {},
   "outputs": [
    {
     "data": {
      "text/html": [
       "<div>\n",
       "<style scoped>\n",
       "    .dataframe tbody tr th:only-of-type {\n",
       "        vertical-align: middle;\n",
       "    }\n",
       "\n",
       "    .dataframe tbody tr th {\n",
       "        vertical-align: top;\n",
       "    }\n",
       "\n",
       "    .dataframe thead th {\n",
       "        text-align: right;\n",
       "    }\n",
       "</style>\n",
       "<table border=\"1\" class=\"dataframe\">\n",
       "  <thead>\n",
       "    <tr style=\"text-align: right;\">\n",
       "      <th></th>\n",
       "      <th>0</th>\n",
       "    </tr>\n",
       "  </thead>\n",
       "  <tbody>\n",
       "    <tr>\n",
       "      <th>0</th>\n",
       "      <td>1</td>\n",
       "    </tr>\n",
       "    <tr>\n",
       "      <th>1</th>\n",
       "      <td>1</td>\n",
       "    </tr>\n",
       "    <tr>\n",
       "      <th>2</th>\n",
       "      <td>0</td>\n",
       "    </tr>\n",
       "    <tr>\n",
       "      <th>3</th>\n",
       "      <td>0</td>\n",
       "    </tr>\n",
       "    <tr>\n",
       "      <th>4</th>\n",
       "      <td>1</td>\n",
       "    </tr>\n",
       "    <tr>\n",
       "      <th>...</th>\n",
       "      <td>...</td>\n",
       "    </tr>\n",
       "    <tr>\n",
       "      <th>68</th>\n",
       "      <td>0</td>\n",
       "    </tr>\n",
       "    <tr>\n",
       "      <th>69</th>\n",
       "      <td>1</td>\n",
       "    </tr>\n",
       "    <tr>\n",
       "      <th>70</th>\n",
       "      <td>1</td>\n",
       "    </tr>\n",
       "    <tr>\n",
       "      <th>71</th>\n",
       "      <td>0</td>\n",
       "    </tr>\n",
       "    <tr>\n",
       "      <th>72</th>\n",
       "      <td>1</td>\n",
       "    </tr>\n",
       "  </tbody>\n",
       "</table>\n",
       "<p>73 rows × 1 columns</p>\n",
       "</div>"
      ],
      "text/plain": [
       "    0\n",
       "0   1\n",
       "1   1\n",
       "2   0\n",
       "3   0\n",
       "4   1\n",
       ".. ..\n",
       "68  0\n",
       "69  1\n",
       "70  1\n",
       "71  0\n",
       "72  1\n",
       "\n",
       "[73 rows x 1 columns]"
      ]
     },
     "execution_count": 562,
     "metadata": {},
     "output_type": "execute_result"
    }
   ],
   "source": [
    "predictions = pd.DataFrame(predictions)\n",
    "predictions"
   ]
  },
  {
   "cell_type": "code",
   "execution_count": 566,
   "metadata": {},
   "outputs": [
    {
     "data": {
      "text/plain": [
       "0.9178082191780822"
      ]
     },
     "execution_count": 566,
     "metadata": {},
     "output_type": "execute_result"
    }
   ],
   "source": [
    "from sklearn.naive_bayes import GaussianNB\n",
    "\n",
    "model = GaussianNB()\n",
    "y_pred = model.fit(X_train, Y_train).predict(X_test)\n",
    "\n",
    "metrics.accuracy_score(expected, y_pred)"
   ]
  },
  {
   "cell_type": "code",
   "execution_count": 569,
   "metadata": {},
   "outputs": [
    {
     "data": {
      "image/png": "[encoded data removed]",
      "text/plain": [
       "<Figure size 432x288 with 2 Axes>"
      ]
     },
     "metadata": {
      "needs_background": "light"
     },
     "output_type": "display_data"
    }
   ],
   "source": [
    "conf_matrix = confusion_matrix(y_true=expected, y_pred=predictions, labels=model.classes_)\n",
    "\n",
    "disp = ConfusionMatrixDisplay(confusion_matrix=conf_matrix, display_labels=model.classes_)\n",
    "\n",
    "disp.plot()\n",
    "\n",
    "plt.show()"
   ]
  }
 ],
 "metadata": {
  "interpreter": {
   "hash": "e6603807a63f05094bfcca802571e13d51404b330d0a53c6c8b56a7fbce70e22"
  },
  "kernelspec": {
   "display_name": "Python 3.9.7 ('base')",
   "language": "python",
   "name": "python3"
  },
  "language_info": {
   "codemirror_mode": {
    "name": "ipython",
    "version": 3
   },
   "file_extension": ".py",
   "mimetype": "text/x-python",
   "name": "python",
   "nbconvert_exporter": "python",
   "pygments_lexer": "ipython3",
   "version": "3.9.7"
  },
  "orig_nbformat": 4
 },
 "nbformat": 4,
 "nbformat_minor": 2
}
